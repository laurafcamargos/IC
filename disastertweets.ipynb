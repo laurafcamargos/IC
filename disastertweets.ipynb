{
 "cells": [
  {
   "cell_type": "code",
   "execution_count": 1,
   "id": "b385fc4b",
   "metadata": {
    "_cell_guid": "b1076dfc-b9ad-4769-8c92-a6c4dae69d19",
    "_uuid": "8f2839f25d086af736a60e9eeb907d3b93b6e0e5",
    "execution": {
     "iopub.execute_input": "2023-11-09T18:34:18.485915Z",
     "iopub.status.busy": "2023-11-09T18:34:18.485504Z",
     "iopub.status.idle": "2023-11-09T18:34:18.910873Z",
     "shell.execute_reply": "2023-11-09T18:34:18.909771Z"
    },
    "papermill": {
     "duration": 0.43423,
     "end_time": "2023-11-09T18:34:18.913781",
     "exception": false,
     "start_time": "2023-11-09T18:34:18.479551",
     "status": "completed"
    },
    "tags": []
   },
   "outputs": [
    {
     "name": "stdout",
     "output_type": "stream",
     "text": [
      "/kaggle/input/nlp-getting-started/sample_submission.csv\n",
      "/kaggle/input/nlp-getting-started/train.csv\n",
      "/kaggle/input/nlp-getting-started/test.csv\n"
     ]
    }
   ],
   "source": [
    "# This Python 3 environment comes with many helpful analytics libraries installed\n",
    "# It is defined by the kaggle/python Docker image: https://github.com/kaggle/docker-python\n",
    "# For example, here's several helpful packages to load\n",
    "\n",
    "import numpy as np # linear algebra\n",
    "import pandas as pd # data processing, CSV file I/O (e.g. pd.read_csv)\n",
    "\n",
    "# Input data files are available in the read-only \"../input/\" directory\n",
    "# For example, running this (by clicking run or pressing Shift+Enter) will list all files under the input directory\n",
    "\n",
    "import os\n",
    "for dirname, _, filenames in os.walk('/kaggle/input'):\n",
    "    for filename in filenames:\n",
    "        print(os.path.join(dirname, filename))\n",
    "\n",
    "# You can write up to 20GB to the current directory (/kaggle/working/) that gets preserved as output when you create a version using \"Save & Run All\" \n",
    "# You can also write temporary files to /kaggle/temp/, but they won't be saved outside of the current session"
   ]
  },
  {
   "cell_type": "markdown",
   "id": "ab8fac99",
   "metadata": {
    "papermill": {
     "duration": 0.003667,
     "end_time": "2023-11-09T18:34:18.923526",
     "exception": false,
     "start_time": "2023-11-09T18:34:18.919859",
     "status": "completed"
    },
    "tags": []
   },
   "source": [
    "# Lê os arquivos csv"
   ]
  },
  {
   "cell_type": "code",
   "execution_count": 2,
   "id": "04d79a16",
   "metadata": {
    "execution": {
     "iopub.execute_input": "2023-11-09T18:34:18.933185Z",
     "iopub.status.busy": "2023-11-09T18:34:18.932671Z",
     "iopub.status.idle": "2023-11-09T18:34:19.014656Z",
     "shell.execute_reply": "2023-11-09T18:34:19.013591Z"
    },
    "papermill": {
     "duration": 0.089831,
     "end_time": "2023-11-09T18:34:19.017301",
     "exception": false,
     "start_time": "2023-11-09T18:34:18.927470",
     "status": "completed"
    },
    "tags": []
   },
   "outputs": [],
   "source": [
    "data_train = pd.read_csv('/kaggle/input/nlp-getting-started/train.csv')\n",
    "data_test = pd.read_csv('/kaggle/input/nlp-getting-started/test.csv')\n",
    "data_submission = pd.read_csv('/kaggle/input/nlp-getting-started/sample_submission.csv')"
   ]
  },
  {
   "cell_type": "markdown",
   "id": "e11b339b",
   "metadata": {
    "papermill": {
     "duration": 0.003734,
     "end_time": "2023-11-09T18:34:19.025149",
     "exception": false,
     "start_time": "2023-11-09T18:34:19.021415",
     "status": "completed"
    },
    "tags": []
   },
   "source": [
    "# Pré processando o texto"
   ]
  },
  {
   "cell_type": "code",
   "execution_count": 3,
   "id": "c1c8d9f2",
   "metadata": {
    "execution": {
     "iopub.execute_input": "2023-11-09T18:34:19.035173Z",
     "iopub.status.busy": "2023-11-09T18:34:19.034264Z",
     "iopub.status.idle": "2023-11-09T18:34:21.187798Z",
     "shell.execute_reply": "2023-11-09T18:34:21.186499Z"
    },
    "papermill": {
     "duration": 2.161686,
     "end_time": "2023-11-09T18:34:21.190744",
     "exception": false,
     "start_time": "2023-11-09T18:34:19.029058",
     "status": "completed"
    },
    "tags": []
   },
   "outputs": [],
   "source": [
    "\n",
    "from sklearn.feature_extraction.text import TfidfVectorizer\n",
    "\n",
    "\n",
    "\n",
    "#instância do TfidfVectorizer com pré-processamento personalizado\n",
    "tfidf_vectorizer = TfidfVectorizer(\n",
    "    lowercase=True,               #coloca tudo em minúsculas\n",
    "    stop_words='english',         #remove stopwords em inglês\n",
    "    token_pattern=r'(?u)\\b\\w\\w+\\b',  #usa um padrão regex para tokens\n",
    "    max_features=5000,             #limita o número máximo de recursos\n",
    "    ngram_range = (1,2)\n",
    ")\n",
    "\n",
    "#ajustar e transformar os dados de treinamento usando o vetorizador TF-IDF\n",
    "X_train_tfidf = tfidf_vectorizer.fit_transform(data_train['text'])\n",
    "\n",
    "#transformar os dados de teste usando o mesmo vetorizador TF-IDF\n",
    "X_test_tfidf = tfidf_vectorizer.transform(data_test['text'])"
   ]
  },
  {
   "cell_type": "markdown",
   "id": "d24a50da",
   "metadata": {
    "papermill": {
     "duration": 0.003661,
     "end_time": "2023-11-09T18:34:21.198483",
     "exception": false,
     "start_time": "2023-11-09T18:34:21.194822",
     "status": "completed"
    },
    "tags": []
   },
   "source": [
    "# Treinando o modelo de fato"
   ]
  },
  {
   "cell_type": "code",
   "execution_count": 4,
   "id": "4f19e8a7",
   "metadata": {
    "execution": {
     "iopub.execute_input": "2023-11-09T18:34:21.208297Z",
     "iopub.status.busy": "2023-11-09T18:34:21.207872Z",
     "iopub.status.idle": "2023-11-09T18:34:34.603171Z",
     "shell.execute_reply": "2023-11-09T18:34:34.601595Z"
    },
    "papermill": {
     "duration": 13.405529,
     "end_time": "2023-11-09T18:34:34.607965",
     "exception": false,
     "start_time": "2023-11-09T18:34:21.202436",
     "status": "completed"
    },
    "tags": []
   },
   "outputs": [
    {
     "name": "stdout",
     "output_type": "stream",
     "text": [
      "              precision    recall  f1-score   support\n",
      "\n",
      "           0       0.98      0.99      0.98      4342\n",
      "           1       0.98      0.97      0.98      3271\n",
      "\n",
      "    accuracy                           0.98      7613\n",
      "   macro avg       0.98      0.98      0.98      7613\n",
      "weighted avg       0.98      0.98      0.98      7613\n",
      "\n"
     ]
    }
   ],
   "source": [
    "from sklearn.neural_network import MLPClassifier\n",
    "from sklearn.metrics import classification_report\n",
    "\n",
    "#cria um modelo MLPClassifier\n",
    "mlp_model = MLPClassifier(hidden_layer_sizes=(10, 64), activation='relu', max_iter=150, random_state=0)\n",
    "\n",
    "#treina o modelo com os dados de treinamento do csv,utilizando o target como rótulo da resposta correta\n",
    "mlp_model.fit(X_train_tfidf, data_train['target'])\n",
    "\n",
    "#faz previsões com base nos dados de treinamento\n",
    "y_pred = mlp_model.predict(X_train_tfidf)\n",
    "\n",
    "#avalia o desempenho do modelo comparando as previsões com os rótulos dados\n",
    "report = classification_report(data_train['target'], y_pred)\n",
    "print(report)"
   ]
  },
  {
   "cell_type": "markdown",
   "id": "856c9054",
   "metadata": {
    "papermill": {
     "duration": 0.007724,
     "end_time": "2023-11-09T18:34:34.624760",
     "exception": false,
     "start_time": "2023-11-09T18:34:34.617036",
     "status": "completed"
    },
    "tags": []
   },
   "source": [
    "# Explicando o report\n",
    "\n",
    "**Precision:** avalia a precisão das previsões positivas do modelo. Uma alta precisão significa que o modelo raramente faz previsões falsas positivas.\n",
    "\n",
    "**Recall**: avalia a capacidade do modelo de identificar todos os exemplos positivos. Um alto recall significa que o modelo raramente deixa de identificar exemplos positivos.\n",
    "\n",
    "**F1-Score**: é uma métrica que combina precisão e recall em um único valor. É particularmente útil quando as classes não estão balanceadas, ou seja, quando uma classe tem muito mais exemplos do que a outra.\n"
   ]
  },
  {
   "cell_type": "markdown",
   "id": "90ce4fec",
   "metadata": {
    "papermill": {
     "duration": 0.007625,
     "end_time": "2023-11-09T18:34:34.640516",
     "exception": false,
     "start_time": "2023-11-09T18:34:34.632891",
     "status": "completed"
    },
    "tags": []
   },
   "source": [
    "# Submetendo arquivo"
   ]
  },
  {
   "cell_type": "code",
   "execution_count": 5,
   "id": "1e749112",
   "metadata": {
    "execution": {
     "iopub.execute_input": "2023-11-09T18:34:34.660623Z",
     "iopub.status.busy": "2023-11-09T18:34:34.659714Z",
     "iopub.status.idle": "2023-11-09T18:34:34.700247Z",
     "shell.execute_reply": "2023-11-09T18:34:34.698630Z"
    },
    "papermill": {
     "duration": 0.055954,
     "end_time": "2023-11-09T18:34:34.705296",
     "exception": false,
     "start_time": "2023-11-09T18:34:34.649342",
     "status": "completed"
    },
    "tags": []
   },
   "outputs": [],
   "source": [
    "#extraindo os IDs do arquivo de teste para usar no submission\n",
    "ids = data_test['id']\n",
    "\n",
    "#fazendo previsões nos dados de teste\n",
    "y_pred = mlp_model.predict(X_test_tfidf)\n",
    "\n",
    "#dataframe de submissão com os IDs e as previsões de teste\n",
    "submission_data = pd.DataFrame({'id': ids, 'target': y_pred})\n",
    "\n",
    "#salva o dataframe de submissão em um arquivo CSV chamado \"sample_submission.csv\"\n",
    "submission_data.to_csv('/kaggle/working/sample_submission.csv', index=False)\n",
    "\n"
   ]
  }
 ],
 "metadata": {
  "kernelspec": {
   "display_name": "Python 3",
   "language": "python",
   "name": "python3"
  },
  "language_info": {
   "codemirror_mode": {
    "name": "ipython",
    "version": 3
   },
   "file_extension": ".py",
   "mimetype": "text/x-python",
   "name": "python",
   "nbconvert_exporter": "python",
   "pygments_lexer": "ipython3",
   "version": "3.10.12"
  },
  "papermill": {
   "default_parameters": {},
   "duration": 20.529949,
   "end_time": "2023-11-09T18:34:35.340938",
   "environment_variables": {},
   "exception": null,
   "input_path": "__notebook__.ipynb",
   "output_path": "__notebook__.ipynb",
   "parameters": {},
   "start_time": "2023-11-09T18:34:14.810989",
   "version": "2.4.0"
  }
 },
 "nbformat": 4,
 "nbformat_minor": 5
}
